{
 "cells": [
  {
   "cell_type": "code",
   "execution_count": 1,
   "metadata": {},
   "outputs": [],
   "source": [
    "import pandas as pd\n",
    "import numpy as np\n",
    "from scipy import stats\n",
    "import os\n"
   ]
  },
  {
   "attachments": {},
   "cell_type": "markdown",
   "metadata": {},
   "source": [
    "## Task1: Analyze the T-Test problem and use the Python Pandas to read from the CSV into a Data Frame"
   ]
  },
  {
   "attachments": {},
   "cell_type": "markdown",
   "metadata": {},
   "source": [
    "- Опишите проблему\n",
    "- Создайте нулевую гипотезу"
   ]
  },
  {
   "cell_type": "code",
   "execution_count": null,
   "metadata": {},
   "outputs": [],
   "source": []
  },
  {
   "cell_type": "markdown",
   "metadata": {},
   "source": [
    "- Используйте Python Pandas для чтения CSV в DataFrame.\n",
    "- Обратите внимание на размеры DataFrame.\n",
    "- Распечатайте фрейм данных."
   ]
  },
  {
   "cell_type": "code",
   "execution_count": 18,
   "metadata": {},
   "outputs": [
    {
     "name": "stdout",
     "output_type": "stream",
     "text": [
      "(1000, 8)\n"
     ]
    }
   ],
   "source": [
    "df = pd.read_csv('scores.csv')\n",
    "print (df.shape)"
   ]
  },
  {
   "cell_type": "code",
   "execution_count": 19,
   "metadata": {},
   "outputs": [
    {
     "name": "stdout",
     "output_type": "stream",
     "text": [
      "     gender race/ethnicity parental level of education         lunch  \\\n",
      "0    female        group B           bachelor's degree      standard   \n",
      "1    female        group C                some college      standard   \n",
      "2    female        group B             master's degree      standard   \n",
      "3      male        group A          associate's degree  free/reduced   \n",
      "4      male        group C                some college      standard   \n",
      "..      ...            ...                         ...           ...   \n",
      "995  female        group E             master's degree      standard   \n",
      "996    male        group C                 high school  free/reduced   \n",
      "997  female        group C                 high school  free/reduced   \n",
      "998  female        group D                some college      standard   \n",
      "999  female        group D                some college  free/reduced   \n",
      "\n",
      "    test preparation course  math score  reading score  writing score  \n",
      "0                      none          72             72             74  \n",
      "1                 completed          69             90             88  \n",
      "2                      none          90             95             93  \n",
      "3                      none          47             57             44  \n",
      "4                      none          76             78             75  \n",
      "..                      ...         ...            ...            ...  \n",
      "995               completed          88             99             95  \n",
      "996                    none          62             55             55  \n",
      "997               completed          59             71             65  \n",
      "998               completed          68             78             77  \n",
      "999                    none          77             86             86  \n",
      "\n",
      "[1000 rows x 8 columns]\n"
     ]
    }
   ],
   "source": [
    "print (df)"
   ]
  },
  {
   "attachments": {},
   "cell_type": "markdown",
   "metadata": {},
   "source": [
    "### Task2: Obtain two Numpy arrays from the DataFrame column to represent Female student scores and Male Student scores."
   ]
  },
  {
   "cell_type": "markdown",
   "metadata": {},
   "source": [
    "- Извлеките данные о баллах по математике для студенток, используя условие.\n",
    "- Проверьте тип массива.\n",
    "- Распечатайте массив.\n",
    "- Извлеките результаты по математике мужчин в другой массив."
   ]
  },
  {
   "cell_type": "code",
   "execution_count": 22,
   "metadata": {},
   "outputs": [],
   "source": [
    "fm = df.loc[df['gender'] == 'female', 'math score'].values\n",
    "mm = df.loc[df['gender'] == 'male', 'math score'].values"
   ]
  },
  {
   "cell_type": "code",
   "execution_count": null,
   "metadata": {},
   "outputs": [],
   "source": [
    "print (type(fm))"
   ]
  },
  {
   "cell_type": "code",
   "execution_count": 12,
   "metadata": {},
   "outputs": [
    {
     "name": "stdout",
     "output_type": "stream",
     "text": [
      "[ 72  69  90  71  88  38  65  50  69  18  54  65  69  67  62  69  63  56\n",
      "  74  50  75  58  53  50  55  66  57  71  33  82   0  69  59  60  39  58\n",
      "  41  61  62  47  73  76  71  58  73  65  79  63  58  65  85  58  87  52\n",
      "  70  77  51  99  75  78  51  55  79  88  87  51  75  59  76  59  42  22\n",
      "  68  59  70  66  61  75  81  96  58  68  67  79  63  43  81  46  71  52\n",
      "  97  46  50  65  77  66  62  69  45  78  67  65  57  74  58  42  83  34\n",
      "  56  55  52  45  72  88  67  64  80  56  58  65  71  60  62  64  70  65\n",
      "  64  44  99  63  69  88  71  47  65  85  59  65  73  70  37  67  65  67\n",
      "  74  53  49  73  68  59  77  56  67  75  71  43  41  82  41  83  61  24\n",
      "  35  61  69  72  77  52  63  46  59  61  42  80  58  52  27  44  73  45\n",
      "  82  59  80  85  71  80  38  38  67  64  57  62  77  65  50  85  59  49\n",
      "  88  54  63  82  52  70  51  82  57  47  59  62  61  47  67  78  59  73\n",
      "  67  64 100  65  53  79 100  71  77  84  26  77  83  63  68  59  90  71\n",
      "  55  52  49  60  65  64  83  81  54  54  59  66  74  94  95  40  82  86\n",
      "  54  77  76  74  66  66  67  91  36  29  62  68  47  79  66  51  81  82\n",
      "  64  92  62  40  32  55  53  74  63  63  92  61  53  50  74  81  48  53\n",
      "  81  77  63  73  69  65  55  44  54  48  74  92  56  69  65  54  29  76\n",
      "  85  40  61  58  58  65  82  60  37  35  61  44  66  75  67  80  76  74\n",
      "  72  74  65  59  64  50  69  68  85  65  73  62  43  55  65  50  63  77\n",
      "  66  69  65  69  50  73  70  67  29  94  49  73  66  77  49  79  75  59\n",
      "  57  79  57  63  59  42  80  98  60  76  96  76  62  74  65  73  68  87\n",
      "  53  53  37  81  59  50  77  84  52  53  48  62  74  58  68  52  62  49\n",
      "  66  35  72  46  77  76  52  32  72  19  52  48  60  42  57  70  52  87\n",
      "  82  73  64  41  54  72  45  60  77  85  78  71  48  56  65  69  61  74\n",
      "  77  60  75  66  39  23  40  59  61  87  97  65  53  81  71  70  43  59\n",
      "  64  71  64  51  62  93  69  86  85  50  59  32  63  65  73  34  93  67\n",
      "  79  67  69  52  47  46  68  44  57  35  54  65  48  57  78  58  54  49\n",
      "  57  75  74  62  92  45  56  48 100  65  62  68  75  89  53  49  54  64\n",
      "  91   8  78  74  40  44  67  65  55  62  88  59  68  77]\n"
     ]
    }
   ],
   "source": [
    "print (fm)"
   ]
  },
  {
   "cell_type": "code",
   "execution_count": 24,
   "metadata": {},
   "outputs": [
    {
     "name": "stdout",
     "output_type": "stream",
     "text": [
      "482  ,  518\n"
     ]
    }
   ],
   "source": [
    "print (mm.size, ' , ', fm.size)"
   ]
  },
  {
   "attachments": {},
   "cell_type": "markdown",
   "metadata": {},
   "source": [
    "## Task3: Compute the variance of the two arrays using the standard deviation from each array."
   ]
  },
  {
   "cell_type": "markdown",
   "metadata": {},
   "source": [
    "- Вычислите среднее значение каждого массива образцов с помощью Numpy.\n",
    "- Реализуйте эту функцию.\n",
    "- Вычислите объединенную дисперсию, поскольку размеры популяции различны\n",
    "- Проанализируйте формулу и преобразуйте ее в код python."
   ]
  },
  {
   "cell_type": "code",
   "execution_count": 32,
   "metadata": {},
   "outputs": [],
   "source": [
    "def computeTandP (arr1, arr2):\n",
    "    t, p = 0, 0\n",
    "    mean1, mean2 = np.mean(arr1), np.mean(arr2)\n",
    "    \n",
    "    s1, s2 = np.std(arr1), np.std(arr2)\n",
    "    \n",
    "    var = (((arr1.size - 1)*(s1**2)) + ((arr2.size - 1)*(s2**2))) / (arr1.size + arr2.size -2)\n",
    "    return t, p"
   ]
  },
  {
   "attachments": {},
   "cell_type": "markdown",
   "metadata": {},
   "source": [
    "## Task4: Add the Numpy code to compute the pooled Variance and standard deviation and determine the T-value and P-value of the data sets."
   ]
  },
  {
   "cell_type": "markdown",
   "metadata": {},
   "source": [
    "- Используйте формулу для вычисления объединенного стандартного отклонения.\n",
    "- Используйте объединенное стандартное отклонение для вычисления стандартной ошибки.\n",
    "- Используйте разницу между средним значением и стандартной ошибкой для вычисления значения t\n",
    "- Вычисление степеней свободы\n",
    "- Вычислите значение P с помощью статистики"
   ]
  },
  {
   "cell_type": "markdown",
   "metadata": {},
   "source": [
    "доделываем нашу функцию (итоговая со всеми заданиями)"
   ]
  },
  {
   "cell_type": "code",
   "execution_count": 33,
   "metadata": {},
   "outputs": [],
   "source": [
    "def computeTandP (arr1, arr2):\n",
    "    t, p = 0, 0\n",
    "    mean1, mean2 = np.mean(arr1), np.mean(arr2)\n",
    "    \n",
    "    s1, s2 = np.std(arr1), np.std(arr2)\n",
    "    \n",
    "    var = (((arr1.size - 1)*(s1**2)) + ((arr2.size - 1)*(s2**2))) / (arr1.size + arr2.size -2)\n",
    "    \n",
    "    sp = np.sqrt(var) #standart deviation\n",
    "    \n",
    "    ste = sp*np.sqrt(1/arr1.size + 1/arr2.size)\n",
    "    t = (mean1 - mean2) / ste\n",
    "    df = arr1.size + arr2.size - 2\n",
    "    p = 2*(1-stats.t.cdf(t, df))\n",
    "    \n",
    "    return t, p"
   ]
  },
  {
   "cell_type": "code",
   "execution_count": 34,
   "metadata": {},
   "outputs": [],
   "source": [
    "t, p = computeTandP(mm, fm)"
   ]
  },
  {
   "cell_type": "code",
   "execution_count": 35,
   "metadata": {},
   "outputs": [
    {
     "name": "stdout",
     "output_type": "stream",
     "text": [
      "T value: 5.388622466450282\n"
     ]
    }
   ],
   "source": [
    "print ('T value:', t)"
   ]
  },
  {
   "cell_type": "code",
   "execution_count": 36,
   "metadata": {},
   "outputs": [
    {
     "name": "stdout",
     "output_type": "stream",
     "text": [
      "P value: 8.859047007092613e-08\n"
     ]
    }
   ],
   "source": [
    "print ('P value:', p)"
   ]
  },
  {
   "attachments": {},
   "cell_type": "markdown",
   "metadata": {},
   "source": [
    "## Task5: Add the function to remove outliers from each set of data, then re-compute the T-value and P-value."
   ]
  },
  {
   "attachments": {},
   "cell_type": "markdown",
   "metadata": {},
   "source": [
    "- Создайте функцию для программного удаления выбросов.\n",
    "- Обычно не следует изменять исходные данные до начала расследования.\n",
    "- Вычислите верхний и нижний квартили.\n",
    "- Удалите их из массива, используя вычисленный межквартильный диапазон (IRQ).\n"
   ]
  },
  {
   "cell_type": "code",
   "execution_count": 37,
   "metadata": {},
   "outputs": [],
   "source": [
    "def removeOutliers(arr):\n",
    "    q3, q1 = np.percentile(arr, [75, 25])\n",
    "    iqr = q3 - q1\n",
    "    lower = q1 -1.5 * iqr\n",
    "    upper = q3 + 1.5 * iqr\n",
    "    print ('lower outlier limit =', lower)\n",
    "    print ('upper outlier limit =', upper)\n",
    "    #remove elements below lower and above upper\n",
    "    #by keeping between lower and upper, inclusive\n",
    "    \n",
    "    arr = arr[(arr >= lower) & (arr <= upper)]\n",
    "    return arr"
   ]
  },
  {
   "cell_type": "code",
   "execution_count": 38,
   "metadata": {},
   "outputs": [
    {
     "name": "stdout",
     "output_type": "stream",
     "text": [
      "lower outlier limit = 24.0\n",
      "upper outlier limit = 104.0\n",
      "lower outlier limit = 29.0\n",
      "upper outlier limit = 109.0\n"
     ]
    }
   ],
   "source": [
    "fm = removeOutliers(fm)\n",
    "mm = removeOutliers(mm)"
   ]
  },
  {
   "cell_type": "code",
   "execution_count": 39,
   "metadata": {},
   "outputs": [],
   "source": [
    "t, p = computeTandP(mm, fm)"
   ]
  },
  {
   "cell_type": "code",
   "execution_count": 40,
   "metadata": {},
   "outputs": [
    {
     "name": "stdout",
     "output_type": "stream",
     "text": [
      "T value: 5.142350675301441\n"
     ]
    }
   ],
   "source": [
    "print ('T value:', t)"
   ]
  },
  {
   "cell_type": "code",
   "execution_count": 41,
   "metadata": {},
   "outputs": [
    {
     "name": "stdout",
     "output_type": "stream",
     "text": [
      "P value: 3.269459232235761e-07\n"
     ]
    }
   ],
   "source": [
    "print ('P value:', p)"
   ]
  },
  {
   "cell_type": "code",
   "execution_count": null,
   "metadata": {},
   "outputs": [],
   "source": []
  }
 ],
 "metadata": {
  "kernelspec": {
   "display_name": "Python 3",
   "language": "python",
   "name": "python3"
  },
  "language_info": {
   "codemirror_mode": {
    "name": "ipython",
    "version": 3
   },
   "file_extension": ".py",
   "mimetype": "text/x-python",
   "name": "python",
   "nbconvert_exporter": "python",
   "pygments_lexer": "ipython3",
   "version": "3.8.5"
  }
 },
 "nbformat": 4,
 "nbformat_minor": 4
}
